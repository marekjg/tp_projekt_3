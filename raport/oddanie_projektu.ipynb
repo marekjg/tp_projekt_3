{
 "cells": [
  {
   "cell_type": "markdown",
   "metadata": {},
   "source": [
    "# TECHNIKI PROGRAMOWANIA - projekt 3\n",
    "### Jan Kowalski 123456\n",
    "### Janina Kowalska 456789\n",
    "\n",
    "Wykorzystane biblioteki:\n",
    "- matplotplusplus (c++)\n",
    "- soundfile (python)"
   ]
  },
  {
   "cell_type": "markdown",
   "metadata": {},
   "source": [
    "# Wizualizacja wykresów 1D\n",
    "Przykład obrazujący zaimplementowaną funkcjonalnośc rysowania wykresów 1 wymiarowych"
   ]
  },
  {
   "cell_type": "code",
   "execution_count": 1,
   "metadata": {},
   "outputs": [],
   "source": [
    "import scikit_build_example as sbe\n",
    "import numpy as np\n",
    "\n",
    "x = np.linspace(0, 10 * np.pi, 1000)\n",
    "y = np.sin(x)\n",
    "\n",
    "sbe.plot_line(x, y)\n",
    "# zapisać wykres do pliku np. sine_plot.png"
   ]
  },
  {
   "cell_type": "markdown",
   "metadata": {},
   "source": [
    "![Sine plot](sine_plot.png)"
   ]
  },
  {
   "cell_type": "markdown",
   "metadata": {},
   "source": [
    "# Dodanie dwóch liczb"
   ]
  },
  {
   "cell_type": "code",
   "execution_count": 2,
   "metadata": {},
   "outputs": [
    {
     "name": "stdout",
     "output_type": "stream",
     "text": [
      "5 + 6 = 11\n"
     ]
    }
   ],
   "source": [
    "a = 5\n",
    "b = 6\n",
    "result = sbe.add(a, b)\n",
    "print(f\"{a} + {b} = {result}\")"
   ]
  },
  {
   "cell_type": "markdown",
   "metadata": {},
   "source": [
    "# DFT\n",
    "W celu sprawdzenia poprawności implementacji DFT wykorzystamy kilka przykładowych przebiegów:\n",
    "- sin(f*t) i sin(10*f*t)\n",
    "- ..."
   ]
  },
  {
   "cell_type": "markdown",
   "metadata": {},
   "source": [
    "## sin(ft)"
   ]
  },
  {
   "cell_type": "code",
   "execution_count": 6,
   "metadata": {},
   "outputs": [],
   "source": [
    "f = 10\n",
    "N = 1000\n",
    "t = np.linspace(0, 2 * np.pi, N)\n",
    "\n",
    "x = np.sin(f * t)\n",
    "X = np.abs(np.fft.rfft(x)) ** 2\n",
    "\n",
    "sbe.plot_line(t, x)\n",
    "# zapisane jako sin_ft.png\n",
    "sbe.plot_line(np.arange(N), X)\n",
    "# zapisane jako sin_ft_fft.png"
   ]
  },
  {
   "cell_type": "markdown",
   "metadata": {},
   "source": [
    "![sin ft](sin_ft.png)\n",
    "![sin_ft_fft](sin_ft_fft.png)"
   ]
  },
  {
   "cell_type": "markdown",
   "metadata": {},
   "source": [
    "## sin(10 * ft)"
   ]
  },
  {
   "cell_type": "code",
   "execution_count": 8,
   "metadata": {},
   "outputs": [],
   "source": [
    "x = np.sin(10 * f * t)\n",
    "X = np.abs(np.fft.rfft(x)) ** 2\n",
    "\n",
    "sbe.plot_line(t, x)\n",
    "# zapisane jako sin_10_ft.png\n",
    "sbe.plot_line(np.arange(N), X)\n",
    "# zapisane jako sin_10_ft_fft.png"
   ]
  },
  {
   "cell_type": "markdown",
   "metadata": {},
   "source": [
    "![sin ft](sin_10_ft.png)\n",
    "![sin_ft_fft](sin_10_ft_fft.png)"
   ]
  },
  {
   "cell_type": "code",
   "execution_count": null,
   "metadata": {},
   "outputs": [],
   "source": []
  }
 ],
 "metadata": {
  "kernelspec": {
   "display_name": "phd",
   "language": "python",
   "name": "python3"
  },
  "language_info": {
   "codemirror_mode": {
    "name": "ipython",
    "version": 3
   },
   "file_extension": ".py",
   "mimetype": "text/x-python",
   "name": "python",
   "nbconvert_exporter": "python",
   "pygments_lexer": "ipython3",
   "version": "3.11.7"
  }
 },
 "nbformat": 4,
 "nbformat_minor": 2
}
